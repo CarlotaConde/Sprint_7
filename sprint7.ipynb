{
 "cells": [
  {
   "cell_type": "markdown",
   "metadata": {},
   "source": [
    "NIVELL 1\n"
   ]
  },
  {
   "cell_type": "markdown",
   "metadata": {},
   "source": [
    "EXERCICI 1:\n",
    "Calculadora de l'índex de massa corporal\n",
    "\n",
    "Escriu una funció que calculi l'IMC ingressat per l'usuari/ària, és a dir, qui ho executi haurà d'ingressar aquestes dades. Pots obtenir més informació del seu càlcul en:\n",
    "\n",
    "-> Índice de masa corporal IMC que es y como se calcula.\n",
    "\n",
    "La funció ha de classificar el resultat en les seves respectives categories\n"
   ]
  },
  {
   "cell_type": "code",
   "execution_count": 1,
   "metadata": {},
   "outputs": [
    {
     "name": "stdout",
     "output_type": "stream",
     "text": [
      "Pes: 60.0 kg | Alçada: 1.6 m\n",
      "Índex de massa corporal (IMC): 23.44\n",
      "Classificació: Normopès\n"
     ]
    }
   ],
   "source": [
    "# He creat una funció pròpia a la que li he donat el nom de 'indexmassacorporal'.\n",
    "def indexmassacorporal():\n",
    "    # Declaro la variable 'pes' amb un input on sol·licito que l'usuari introdueixi el seu pes, he posat que la variable sigui un tipus 'float' per a que permeti posar decimals.\n",
    "    pes = float(input(\"Introdueix el teu pes en kg (si vols indicar els grams utilitza un punt)\"))\n",
    "    # Faig el mateix, declarant la variable 'alçada' amb un input per sol·licitar que l'usuari introdueixi la seva alçada, la variable també és de tipus 'float' per a que posi els decimals.\n",
    "    alçada = float(input(\"Introdueix la teva alçada en metres (separa els metres i els centímetres amb un punt)\"))\n",
    "    # Faig un print del pes i de l'alçada per a que surtin representats els valors que l'usuari ha introduït.\n",
    "    print(f\"Pes: {pes} kg | Alçada: {alçada} m\")\n",
    "    # Declaro la variable 'IMC' com el resultat del pes dividit entre l'alçada elevat al quadrat.\n",
    "    IMC = pes/alçada**2\n",
    "    # Faig un print del resultat del IMC i l'he arrodonit a dos decimals.\n",
    "    print(f\"Índex de massa corporal (IMC): {round(IMC,2)}\")\n",
    "    # Creo condicions, d'aquesta manera, si el resultat de l'IMC és menor a 18.50 ha de fer un print indicant que és considerat infrapès.\n",
    "    if IMC < 18.50:\n",
    "        print(\"Classificació: Infrapès\")\n",
    "    # Creo una altra condició indicant que si el resultat de l'IMC és menor o igual a 24.99 fagi un print dient que és considerat normopès.\n",
    "    elif IMC<=24.99:\n",
    "        print (\"Classificació: Normopès\")\n",
    "    # En aquesta condició, si l'IMC és menor o igual a 29.99 ha de fer un print on indiqui que es sobrepès.\n",
    "    elif IMC <=29.99:\n",
    "        print(\"Classificació: Sobrepès\")\n",
    "    # En aquest cas, és tota la resta, que seríen els valor de l'IMC que estan per sobre de 30, on ja es considerat sobrepès.\n",
    "    else:\n",
    "        print(\"Classificació: Obesitat\")\n",
    "\n",
    "# Aquí és com si fes un print de la funció pròpia que acabo de crear.\n",
    "indexmassacorporal()"
   ]
  },
  {
   "cell_type": "markdown",
   "metadata": {},
   "source": [
    "EXERCICI 2: Convertidor de temperatures.\n",
    "\n",
    "Existeixen diverses unitats de temperatura utilitzades en diferents contextos i regions. Les més comunes són Celsius (°C), Fahrenheit (°F) i Kelvin (K). També existeixen altres unitats com Rankine (°Ra) i Réaumur (°Re). Selecciona almenys 2 conversors, de tal manera que en introduir una temperatura retorni, com a mínim, dues conversions.\n"
   ]
  },
  {
   "cell_type": "code",
   "execution_count": 3,
   "metadata": {},
   "outputs": [
    {
     "name": "stdout",
     "output_type": "stream",
     "text": [
      "Celsius: 20.33 ºC\n",
      "Fahrenheit: 68.6 ºF\n",
      "Kelvin: 293.48 K\n",
      "Rankine: 528.27 ºRa\n",
      "Réaumur: 16.27 ºRe\n"
     ]
    }
   ],
   "source": [
    "# Creo una nova funció a la que he anomenat 'convertidor_temperatures'.\n",
    "def convertidor_temperatures():\n",
    "    # Demano a l'usuari que introduixi la temperatura en graus celsius, l'he posat de tipus float per poder introduir decimals, a aquesta variable l'he anomenat 'celsius'.\n",
    "    celsius = float(input(\"Introdueix la temperatura en graus Celsius(ºC):\"))\n",
    "    # Faig un print del valor introduit en graus celsius i li faig un round per a que arrodoneixi per els 2 primers decimals.\n",
    "    print(f\"Celsius: {round(celsius,2)} ºC\")\n",
    "    # Si multipiquem el resultat dels celsius que ha introduït l'usuari per 1.8 i al resultat li sumem 32 ens dona el resultat en Fahrenheit, és com he anomenat aquesta variable.\n",
    "    fahrenheit = (celsius*1.8)+32\n",
    "    # Represento el valor en Fahrenheit, arrodoneixo als 2 primers decimals.\n",
    "    print(f\"Fahrenheit: {round(fahrenheit,2)} ºF\")\n",
    "    # Si al valor dels graus celsius li sumem 273.15 ens dona el resultat en kelvins, he anomenat la variable com a 'kelvin'.\n",
    "    kelvin = celsius+273.15\n",
    "    # Faig un print del resultat en kelvins i arrodoneixo.\n",
    "    print(f\"Kelvin: {round(kelvin,2)} K\")\n",
    "    # Per convertir els celsius a Rankine, hem de multiplicar els celsius per 9/5 i al resultat sumar-li 491.67, he anomenat a la variable 'rankine'.\n",
    "    rankine = (celsius*9/5)+491.67\n",
    "    # Represento el resultat que m'ha donat en 'rankine' i ho arrodoneixo.\n",
    "    print(f\"Rankine: {round(rankine,2)} ºRa\")\n",
    "    # Per convertir els celsius en Réaumur multipliquem els celsius per 4 i després ho dividim entre 5, he anomenat a la variable 'reaumur'.\n",
    "    reaumur = (4*celsius)/5\n",
    "    # Represento els valor de 'reaumur' i ho arrodoneixo.\n",
    "    print(f\"Réaumur: {round(reaumur,2)} ºRe\")\n",
    "\n",
    "# Represento la funció pròpia que acabo de crear.\n",
    "convertidor_temperatures()"
   ]
  },
  {
   "cell_type": "markdown",
   "metadata": {},
   "source": [
    "EXERCICI 3: Comptador de paraules d'un text.\n",
    "\n",
    "Escriu una funció que donat un text, mostri les vegades que apareix cada paraula.\n"
   ]
  },
  {
   "cell_type": "code",
   "execution_count": 35,
   "metadata": {},
   "outputs": [
    {
     "name": "stdout",
     "output_type": "stream",
     "text": [
      "Text: hola hola text de prova\n",
      "Has dit 5 paraules\n"
     ]
    },
    {
     "data": {
      "text/plain": [
       "{'hola': 2, 'text': 1, 'de': 1, 'prova': 1}"
      ]
     },
     "execution_count": 35,
     "metadata": {},
     "output_type": "execute_result"
    }
   ],
   "source": [
    "# Creo una funció pròpia a la que he anomenat 'comptador_paraules'.\n",
    "def comptador_paraules():\n",
    "    # Declaro la variable 'text' amb un input on l'usuari ha d'introduïr un text, no fa falta que indiqui que es de tipus string ya que de manera predeterminada és el valor que li dona.\n",
    "    text = input(\"Introdueix un text: \")\n",
    "    # Declaro una la variable 'paraules' on converteixo el resultat de 'text' a minúscules i separo aquest text per els espais.\n",
    "    paraules = text.lower().split(\" \")\n",
    "    # Declaro el resultat de la longitud que te la variable paraules com a 'quantitat_paraules'.\n",
    "    quantitat_paraules = len(paraules)\n",
    "    # Faig un print del text que ha introduït l'usuari.\n",
    "    print(f\"Text: {text}\")\n",
    "    # Després faig un print de la quantitat de paraules que ha introduït.\n",
    "    print(f\"Has dit {quantitat_paraules} paraules\")\n",
    "    # Creo un diccionari buit al que he anomenat 'repeticio_paraules'.\n",
    "    repeticio_paraules = {}\n",
    "    # Creo un bucle for per a cada item de 'paraules'.\n",
    "    for paraula in paraules:\n",
    "        # Elimino de la variable 'paraula' amb '.strip' els caràcters especials.\n",
    "        paraula = paraula.strip(\"()?¿!¡.,''\")\n",
    "        # Creo una condició, indicant-li que si la paraula ja está al diccionari de 'repeticio_paraules' li sumi 1.\n",
    "        if paraula in repeticio_paraules:\n",
    "            repeticio_paraules[paraula] += 1\n",
    "        # Aquí indico que la resta (en aquest cas sería que la paraula no és a dins del diccionari) que la compti solament com a 1.\n",
    "        else:\n",
    "            repeticio_paraules[paraula] = 1\n",
    "    # Amb return surto de la funció per poder retornar els valors.\n",
    "    return repeticio_paraules\n",
    "\n",
    "# Represento la variable que acabo de crear de 'comptador_paraules'.\n",
    "comptador_paraules()"
   ]
  },
  {
   "cell_type": "markdown",
   "metadata": {},
   "source": [
    "EXERCICI 4: Diccionari invers.\n",
    "\n",
    "Resulta que el client té una enquesta molt antiga que s'emmagatzema en un diccionari i els resultats els necessita al revés, és a dir, intercanviats les claus i els valors. Els valors i claus en el diccionari original són únics; si aquest no és el cas, la funció hauria d'imprimir un missatge d'advertiment.\n"
   ]
  },
  {
   "attachments": {
    "image.png": {
     "image/png": "[encoded data removed]"
    }
   },
   "cell_type": "markdown",
   "metadata": {},
   "source": [
    "![image.png](attachment:image.png)"
   ]
  },
  {
   "cell_type": "code",
   "execution_count": null,
   "metadata": {},
   "outputs": [
    {
     "name": "stdout",
     "output_type": "stream",
     "text": [
      "El valor 'poma' s'ha afegit al diccionari.\n",
      "El valor 'pera' s'ha afegit al diccionari.\n",
      "El valor 'plàtan' s'ha afegit al diccionari.\n",
      "Error: múltiples claus per a un valor. El valor 'poma' ja està al diccionari, no s'ha afegit.\n",
      "Error: múltiples claus per a un valor. El valor 'pera' ja està al diccionari, no s'ha afegit.\n",
      "El valor 'kiwi' s'ha afegit al diccionari.\n",
      "El valor 'mandarina' s'ha afegit al diccionari.\n",
      "Error: múltiples claus per a un valor. El valor 'kiwi' ja està al diccionari, no s'ha afegit.\n",
      "El valor 'mango' s'ha afegit al diccionari.\n",
      "Diccionari invertit: {'poma': 'd', 'pera': 'e', 'plàtan': 'c', 'kiwi': 'h', 'mandarina': 'g', 'mango': 'i'}\n"
     ]
    }
   ],
   "source": [
    "# Creo un diccionari amb valors repetits.\n",
    "diccionari = {'a':'poma','b':'pera','c':'plàtan','d':'poma','e':'pera','f':'kiwi','g':'mandarina','h':'kiwi','i':'mango'}\n",
    "# Creo una nova funció que la he anomenat 'diccionari_invertit'.\n",
    "def diccionari_invertit(diccionari):\n",
    "    # Creo un diccionari nou per anar emmagatzemant els valors.\n",
    "    nou_diccionari = dict()\n",
    "    # Amb el bucle for faig un recorregut de la 'key' i 'value' del diccionari (ex:'a' és la clau, 'poma' el valor), i amb '.item' puc recòrrer el diccionari.\n",
    "    for clau, valor in diccionari.items():\n",
    "        # Aquí l'indico que si el valor ja està a dins del diccionari, estaría repetit, per lo tant que salti un error indicant que el valor ja està al diccionari i que no s'afegirà.\n",
    "        if valor in nou_diccionari:\n",
    "            print(f\"Error: múltiples claus per a un valor. El valor '{valor}' ja està al diccionari, no s'ha afegit.\")\n",
    "        # Aquí es la resta, per lo tant, aquells valors que no estan repetits, he posat que fagi un print indicant que el valor s'ha afegit al diccionari.\n",
    "        else:\n",
    "            print(f\"El valor '{valor}' s'ha afegit al diccionari.\")\n",
    "        # Redefineixo la variant 'clau', indicant-li que ara és 'valor' del nou diccionari que hem creat.\n",
    "        nou_diccionari[valor] = clau\n",
    "    # Faig un 'return' per indicar que és el final de la funció.\n",
    "    return nou_diccionari\n",
    "\n",
    "# Faig un print per indicar el resultat de la funcií que hem creat.\n",
    "print(f\"Diccionari invertit: {diccionari_invertit(diccionari)}\")"
   ]
  },
  {
   "cell_type": "markdown",
   "metadata": {},
   "source": [
    "NIVELL 2"
   ]
  },
  {
   "cell_type": "markdown",
   "metadata": {},
   "source": [
    "EXERCICI 1: Diccionari invers amb duplicats\n",
    "\n",
    "Continuant amb l'exercici 4 del nivell 1: al client es va oblidar de comentar un detall i resulta que els valors en el diccionari original poden duplicar-se i més, per la qual cosa les claus intercanviades poden tenir duplicats. En aquest cas, en l'exercici anterior imprimies un missatge d'advertiment, ara, els valors del diccionari resultant hauran d'emmagatzemar-se com una llista. Tingues en compte que si és un valor únic no ha de ser una llista."
   ]
  },
  {
   "attachments": {
    "image.png": {
     "image/png": "[encoded data removed]"
    }
   },
   "cell_type": "markdown",
   "metadata": {},
   "source": [
    "![image.png](attachment:image.png)"
   ]
  },
  {
   "cell_type": "code",
   "execution_count": 145,
   "metadata": {},
   "outputs": [
    {
     "data": {
      "text/plain": [
       "{'poma': ['a', 'd'],\n",
       " 'pera': ['b', 'e'],\n",
       " 'plàtan': ['c'],\n",
       " 'kiwi': ['f', 'h'],\n",
       " 'mandarina': ['g'],\n",
       " 'mango': ['i']}"
      ]
     },
     "execution_count": 145,
     "metadata": {},
     "output_type": "execute_result"
    }
   ],
   "source": [
    "# Torno a posar el diccionari que havia creat a l'exerici anterior, on hi ha valors repetits per poder veure que funciona.\n",
    "diccionari = {'a':'poma','b':'pera','c':'plàtan','d':'poma','e':'pera','f':'kiwi','g':'mandarina','h':'kiwi','i':'mango'}\n",
    "# Creo una nova funció, l'he anomenat 'diccionari_invertit_nou', agafant ells valors del diccionari que he creat.\n",
    "def diccionari_invertit_nou(diccionari):\n",
    "    # Creo un diccionari nou, l'he anomenat 'diccionari_invers'.\n",
    "    diccionari_invers = dict()\n",
    "    # Amb el bucle for, i amb '.item', faig un recorregut per cada clau i valor del diccionari (ex:'a'es la clau, 'poma' es el valor.).\n",
    "    for clau, valor in diccionari.items():\n",
    "        # L'indico que si el valor ja existeix en el 'diccionari_invers', vol dir que ja hi ha varies claus que representen el mateix valor, llavors que afegeixi la nova clau la llista de claus de el valor.\n",
    "        if valor in diccionari_invers:\n",
    "            diccionari_invers[valor].append(clau)\n",
    "        # Amb 'else' vol dir que si el valor no esta en el 'diccionari_invers', que faci una llista nova amb la clau i l'asigna al valor en el 'diccionari_invers'.\n",
    "        else:\n",
    "           diccionari_invers[valor] = [clau]\n",
    "    # Amb 'return' l'indico que es el final de la funció que hem creat.\n",
    "    return diccionari_invers\n",
    "\n",
    "# Indiquem la funció directament, que sería com fer-li un 'print'.\n",
    "diccionari_invertit_nou(diccionari)"
   ]
  }
 ],
 "metadata": {
  "kernelspec": {
   "display_name": "Python 3",
   "language": "python",
   "name": "python3"
  },
  "language_info": {
   "codemirror_mode": {
    "name": "ipython",
    "version": 3
   },
   "file_extension": ".py",
   "mimetype": "text/x-python",
   "name": "python",
   "nbconvert_exporter": "python",
   "pygments_lexer": "ipython3",
   "version": "3.12.0"
  }
 },
 "nbformat": 4,
 "nbformat_minor": 2
}
